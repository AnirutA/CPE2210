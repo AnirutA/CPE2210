{
 "cells": [
  {
   "cell_type": "code",
   "execution_count": 11,
   "id": "bac71b48",
   "metadata": {
    "scrolled": false
   },
   "outputs": [
    {
     "name": "stdout",
     "output_type": "stream",
     "text": [
      "Perfect BST of given height : \n",
      " \n",
      "      ____8________\n",
      "     /             \\\n",
      "    2__         ____13\n",
      "   /   \\       /      \\\n",
      "  1     7     10       14\n",
      " /     /     /  \\\n",
      "0     5     9    12\n",
      "\n"
     ]
    }
   ],
   "source": [
    "from binarytree import bst\n",
    "root = bst(height = 3)\n",
    "print('Perfect BST of given height : \\n',\n",
    "      root)"
   ]
  },
  {
   "cell_type": "code",
   "execution_count": 12,
   "id": "3622382c",
   "metadata": {
    "scrolled": true
   },
   "outputs": [
    {
     "name": "stdout",
     "output_type": "stream",
     "text": [
      "[Node(0), Node(1), Node(2), Node(5), Node(7), Node(8), Node(9), Node(10), Node(12), Node(13), Node(14)]\n"
     ]
    }
   ],
   "source": [
    "print(root.inorder)"
   ]
  },
  {
   "cell_type": "code",
   "execution_count": 13,
   "id": "9eb40abb",
   "metadata": {
    "scrolled": true
   },
   "outputs": [
    {
     "name": "stdout",
     "output_type": "stream",
     "text": [
      "[Node(8), Node(2), Node(1), Node(0), Node(7), Node(5), Node(13), Node(10), Node(9), Node(12), Node(14)]\n"
     ]
    }
   ],
   "source": [
    "print(root.preorder)"
   ]
  },
  {
   "cell_type": "code",
   "execution_count": 14,
   "id": "5ab9762a",
   "metadata": {
    "scrolled": true
   },
   "outputs": [
    {
     "name": "stdout",
     "output_type": "stream",
     "text": [
      "[Node(0), Node(1), Node(5), Node(7), Node(2), Node(9), Node(12), Node(10), Node(14), Node(13), Node(8)]\n"
     ]
    }
   ],
   "source": [
    "print(root.postorder)"
   ]
  },
  {
   "cell_type": "markdown",
   "id": "afc3a564",
   "metadata": {},
   "source": [
    "# ผลรวม คู่อันดับก่อนหน้าและลำดับตามหลัง root"
   ]
  },
  {
   "cell_type": "code",
   "execution_count": 15,
   "id": "9e2045d1",
   "metadata": {
    "scrolled": true
   },
   "outputs": [
    {
     "name": "stdout",
     "output_type": "stream",
     "text": [
      "8\n",
      "2\n",
      "13\n",
      "1 # : 15\n"
     ]
    }
   ],
   "source": [
    "def TraverseTree(root):\n",
    "    print(root.value)\n",
    "    print(root.left.value)\n",
    "    print(root.right.value)\n",
    "    Sum = root.left.value + root.right.value\n",
    "    return Sum\n",
    "\n",
    "Sum = TraverseTree(root)\n",
    "print(\"1 # : \" + str(Sum))"
   ]
  },
  {
   "cell_type": "markdown",
   "id": "763cde82",
   "metadata": {},
   "source": [
    "# ผลรวมของ ต้นไม้ทั้งต้น"
   ]
  },
  {
   "cell_type": "code",
   "execution_count": 16,
   "id": "8bd67fd3",
   "metadata": {},
   "outputs": [
    {
     "name": "stdout",
     "output_type": "stream",
     "text": [
      "[Node(0), Node(1), Node(2), Node(5), Node(7), Node(8), Node(9), Node(10), Node(12), Node(13), Node(14)]\n",
      "2 # : 81\n"
     ]
    }
   ],
   "source": [
    "def InorderTraversalTree(root):\n",
    "    if root:\n",
    "        return InorderTraversalTree(root.left) + int(root.value)+InorderTraversalTree(root.right)\n",
    "    else: \n",
    "        return 0\n",
    "\n",
    "print(root.inorder)\n",
    "Sum = InorderTraversalTree(root)\n",
    "print(\"2 # : \" + str(Sum))"
   ]
  },
  {
   "cell_type": "markdown",
   "id": "918899cd",
   "metadata": {},
   "source": [
    "# ค้นหาโหนดในต้นไม้ ว่ามีเลขที่เราต้องการหรือไม่"
   ]
  },
  {
   "cell_type": "code",
   "execution_count": 19,
   "id": "448c9416",
   "metadata": {},
   "outputs": [
    {
     "name": "stdout",
     "output_type": "stream",
     "text": [
      "3 #  False\n"
     ]
    }
   ],
   "source": [
    "def Search(root,key):\n",
    "    if root:\n",
    "        if key == root.value:\n",
    "            return True\n",
    "        else:\n",
    "            if key > root.value:\n",
    "                return Search(root.right,key)\n",
    "            else:\n",
    "                return Search(root.left,key)\n",
    "    return False\n",
    "\n",
    "key = 65\n",
    "print(\"3 # \", Search(root,key))"
   ]
  },
  {
   "cell_type": "markdown",
   "id": "edb769c4",
   "metadata": {},
   "source": [
    "# ผลรวมของ กิ่งซ้ายสุด และ กิ่งขวาสุด ของต้นไม้"
   ]
  },
  {
   "cell_type": "code",
   "execution_count": 17,
   "id": "333d9806",
   "metadata": {},
   "outputs": [
    {
     "name": "stdout",
     "output_type": "stream",
     "text": [
      "4 # : 14\n"
     ]
    }
   ],
   "source": [
    "def inorderLeftTraversal(root,vall):\n",
    "    if root:\n",
    "        if root.left == None:\n",
    "            vall = root.value\n",
    "        return inorderLeftTraversal(root.left,vall)\n",
    "    return vall\n",
    "\n",
    "def inorderRightTraversal(root,vall):\n",
    "    if root:\n",
    "        if root.right == None:\n",
    "            vall = root.value\n",
    "        return inorderRightTraversal(root.right,vall)\n",
    "    return vall\n",
    "\n",
    "\n",
    "resL = inorderLeftTraversal(root,0)\n",
    "resR = inorderRightTraversal(root,0)\n",
    "print(\"4 # :\" , resL+resR)"
   ]
  }
 ],
 "metadata": {
  "kernelspec": {
   "display_name": "Python 3 (ipykernel)",
   "language": "python",
   "name": "python3"
  },
  "language_info": {
   "codemirror_mode": {
    "name": "ipython",
    "version": 3
   },
   "file_extension": ".py",
   "mimetype": "text/x-python",
   "name": "python",
   "nbconvert_exporter": "python",
   "pygments_lexer": "ipython3",
   "version": "3.10.0"
  }
 },
 "nbformat": 4,
 "nbformat_minor": 5
}
